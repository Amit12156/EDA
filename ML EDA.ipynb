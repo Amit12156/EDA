{
 "cells": [
  {
   "cell_type": "markdown",
   "id": "792b77d6",
   "metadata": {},
   "source": [
    "# 🏍️ Bike Dataset EDA"
   ]
  },
  {
   "cell_type": "markdown",
   "id": "9f0ff078",
   "metadata": {},
   "source": [
    "This notebook answers various analysis questions on a bike dataset."
   ]
  },
  {
   "cell_type": "code",
   "execution_count": null,
   "id": "a555df10",
   "metadata": {},
   "outputs": [],
   "source": [
    "import pandas as pd\n",
    "import matplotlib.pyplot as plt\n",
    "import seaborn as sns\n",
    "\n",
    "# Load dataset\n",
    "# Replace with your file path or upload code\n",
    "df = pd.read_csv('bikes.csv')\n",
    "df.head()"
   ]
  },
  {
   "cell_type": "markdown",
   "id": "0d19438e",
   "metadata": {},
   "source": [
    "### 1️⃣ What is the range of selling prices in the dataset?"
   ]
  },
  {
   "cell_type": "code",
   "execution_count": null,
   "id": "853b2ea5",
   "metadata": {},
   "outputs": [],
   "source": [
    "selling_price_range = df['selling_price'].min(), df['selling_price'].max()\n",
    "selling_price_range"
   ]
  },
  {
   "cell_type": "markdown",
   "id": "e51d5621",
   "metadata": {},
   "source": [
    "### 2️⃣ What is the median selling price for bikes in the dataset?"
   ]
  },
  {
   "cell_type": "code",
   "execution_count": null,
   "id": "5370b1e1",
   "metadata": {},
   "outputs": [],
   "source": [
    "median_selling_price = df['selling_price'].median()\n",
    "median_selling_price"
   ]
  },
  {
   "cell_type": "markdown",
   "id": "8f613347",
   "metadata": {},
   "source": [
    "### 3️⃣ What is the most common seller type?"
   ]
  },
  {
   "cell_type": "code",
   "execution_count": null,
   "id": "3c17f7bb",
   "metadata": {},
   "outputs": [],
   "source": [
    "most_common_seller_type = df['seller_type'].mode()[0]\n",
    "most_common_seller_type"
   ]
  },
  {
   "cell_type": "markdown",
   "id": "881606fa",
   "metadata": {},
   "source": [
    "### 4️⃣ How many bikes have driven more than 50,000 kilometers?"
   ]
  },
  {
   "cell_type": "code",
   "execution_count": null,
   "id": "6455b9c8",
   "metadata": {},
   "outputs": [],
   "source": [
    "count_high_km = df[df['km_driven'] > 50000].shape[0]\n",
    "count_high_km"
   ]
  },
  {
   "cell_type": "markdown",
   "id": "accdb181",
   "metadata": {},
   "source": [
    "### 5️⃣ Average km_driven for each ownership type"
   ]
  },
  {
   "cell_type": "code",
   "execution_count": null,
   "id": "5b36c0fa",
   "metadata": {},
   "outputs": [],
   "source": [
    "avg_km_by_ownership = df.groupby('owner')['km_driven'].mean()\n",
    "avg_km_by_ownership"
   ]
  },
  {
   "cell_type": "markdown",
   "id": "e35faa20",
   "metadata": {},
   "source": [
    "### 6️⃣ Proportion of bikes from 2015 or older"
   ]
  },
  {
   "cell_type": "code",
   "execution_count": null,
   "id": "887ce113",
   "metadata": {},
   "outputs": [],
   "source": [
    "proportion_2015_older = (df[df['year'] <= 2015].shape[0]) / df.shape[0]\n",
    "proportion_2015_older"
   ]
  },
  {
   "cell_type": "markdown",
   "id": "d2aa1fc9",
   "metadata": {},
   "source": [
    "### 7️⃣ Missing values trend"
   ]
  },
  {
   "cell_type": "code",
   "execution_count": null,
   "id": "1fc57c42",
   "metadata": {},
   "outputs": [],
   "source": [
    "missing_values = df.isnull().sum().sort_values(ascending=False)\n",
    "missing_values"
   ]
  },
  {
   "cell_type": "markdown",
   "id": "04130516",
   "metadata": {},
   "source": [
    "### 8️⃣ Highest ex_showroom_price and corresponding bike"
   ]
  },
  {
   "cell_type": "code",
   "execution_count": null,
   "id": "a88588e9",
   "metadata": {},
   "outputs": [],
   "source": [
    "highest_ex_price = df.loc[df['ex_showroom_price'].idxmax(), ['name', 'ex_showroom_price']]\n",
    "highest_ex_price"
   ]
  },
  {
   "cell_type": "markdown",
   "id": "0ecc8c58",
   "metadata": {},
   "source": [
    "### 9️⃣ Total number of bikes listed by each seller type"
   ]
  },
  {
   "cell_type": "code",
   "execution_count": null,
   "id": "10eb0ded",
   "metadata": {},
   "outputs": [],
   "source": [
    "bikes_by_seller = df['seller_type'].value_counts()\n",
    "bikes_by_seller"
   ]
  },
  {
   "cell_type": "markdown",
   "id": "f28c60dd",
   "metadata": {},
   "source": [
    "### 🔟 Relationship between selling_price and km_driven for first-owner bikes"
   ]
  },
  {
   "cell_type": "code",
   "execution_count": null,
   "id": "c2644f22",
   "metadata": {},
   "outputs": [],
   "source": [
    "sns.scatterplot(data=df[df['owner'] == 'First Owner'], x='km_driven', y='selling_price')\n",
    "plt.title('Selling Price vs. KM Driven for First Owner Bikes')\n",
    "plt.show()"
   ]
  },
  {
   "cell_type": "markdown",
   "id": "643424fc",
   "metadata": {},
   "source": [
    "### 1️⃣1️⃣ Remove outliers in km_driven using IQR"
   ]
  },
  {
   "cell_type": "code",
   "execution_count": null,
   "id": "4ef8267a",
   "metadata": {},
   "outputs": [],
   "source": [
    "Q1 = df['km_driven'].quantile(0.25)\n",
    "Q3 = df['km_driven'].quantile(0.75)\n",
    "IQR = Q3 - Q1\n",
    "filtered_df = df[(df['km_driven'] >= Q1 - 1.5 * IQR) & (df['km_driven'] <= Q3 + 1.5 * IQR)]\n",
    "filtered_df.shape"
   ]
  },
  {
   "cell_type": "markdown",
   "id": "76d749bb",
   "metadata": {},
   "source": [
    "### 1️⃣2️⃣ Bivariate analysis: Year vs. Selling Price"
   ]
  },
  {
   "cell_type": "code",
   "execution_count": null,
   "id": "91847486",
   "metadata": {},
   "outputs": [],
   "source": [
    "sns.boxplot(x='year', y='selling_price', data=filtered_df)\n",
    "plt.xticks(rotation=45)\n",
    "plt.title('Year vs. Selling Price')\n",
    "plt.show()"
   ]
  },
  {
   "cell_type": "markdown",
   "id": "d8ea849f",
   "metadata": {},
   "source": [
    "### 1️⃣3️⃣ Average depreciation in selling price based on bike age"
   ]
  },
  {
   "cell_type": "code",
   "execution_count": null,
   "id": "afd80587",
   "metadata": {},
   "outputs": [],
   "source": [
    "from datetime import datetime\n",
    "current_year = datetime.now().year\n",
    "df['age'] = current_year - df['year']\n",
    "avg_depreciation = df.groupby('age')['selling_price'].mean()\n",
    "avg_depreciation"
   ]
  },
  {
   "cell_type": "markdown",
   "id": "36a50697",
   "metadata": {},
   "source": [
    "### 1️⃣4️⃣ Bikes priced significantly above average for their year"
   ]
  },
  {
   "cell_type": "code",
   "execution_count": null,
   "id": "7a35a6a1",
   "metadata": {},
   "outputs": [],
   "source": [
    "df['avg_price_year'] = df.groupby('year')['selling_price'].transform('mean')\n",
    "above_avg_bikes = df[df['selling_price'] > df['avg_price_year'] * 1.5]\n",
    "above_avg_bikes[['name', 'year', 'selling_price', 'avg_price_year']]"
   ]
  },
  {
   "cell_type": "markdown",
   "id": "a881e11b",
   "metadata": {},
   "source": [
    "### 1️⃣5️⃣ Correlation matrix and heatmap"
   ]
  },
  {
   "cell_type": "code",
   "execution_count": null,
   "id": "c43e463f",
   "metadata": {},
   "outputs": [],
   "source": [
    "corr = df.corr()\n",
    "sns.heatmap(corr, annot=True, cmap='coolwarm')\n",
    "plt.title('Correlation Matrix')\n",
    "plt.show()"
   ]
  }
 ],
 "metadata": {},
 "nbformat": 4,
 "nbformat_minor": 5
}